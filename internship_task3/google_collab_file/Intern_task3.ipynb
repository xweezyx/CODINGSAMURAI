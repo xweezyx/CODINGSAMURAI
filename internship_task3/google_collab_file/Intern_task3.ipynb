{
  "nbformat": 4,
  "nbformat_minor": 0,
  "metadata": {
    "colab": {
      "provenance": []
    },
    "kernelspec": {
      "name": "python3",
      "display_name": "Python 3"
    },
    "language_info": {
      "name": "python"
    }
  },
  "cells": [
    {
      "cell_type": "markdown",
      "source": [
        "# **Internship Task 3**"
      ],
      "metadata": {
        "id": "cldr90xPWyju"
      }
    },
    {
      "cell_type": "markdown",
      "source": [
        "## Downloading libraries"
      ],
      "metadata": {
        "id": "XikjNgYi9sNY"
      }
    },
    {
      "cell_type": "code",
      "source": [
        "!pip install transformers"
      ],
      "metadata": {
        "id": "uVq1aPXO9XIx"
      },
      "execution_count": null,
      "outputs": []
    },
    {
      "cell_type": "code",
      "source": [
        "!pip install scipy"
      ],
      "metadata": {
        "id": "IWGXZUtG9aTc"
      },
      "execution_count": null,
      "outputs": []
    },
    {
      "cell_type": "markdown",
      "source": [
        "## Importing libraries"
      ],
      "metadata": {
        "id": "YNeo399M9yev"
      }
    },
    {
      "cell_type": "code",
      "source": [
        "from transformers import AutoTokenizer,AutoModelForSequenceClassification"
      ],
      "metadata": {
        "id": "Z0F3ThrT9nbh"
      },
      "execution_count": null,
      "outputs": []
    },
    {
      "cell_type": "code",
      "source": [
        "from scipy.special import softmax"
      ],
      "metadata": {
        "id": "speXeZu-9_4c"
      },
      "execution_count": null,
      "outputs": []
    },
    {
      "cell_type": "code",
      "source": [
        "tweet = \"@weezy today is cold at home https://www.google.com\""
      ],
      "metadata": {
        "id": "TO5Rq1ag-HdU"
      },
      "execution_count": null,
      "outputs": []
    },
    {
      "cell_type": "markdown",
      "source": [
        "## Data preprocessing"
      ],
      "metadata": {
        "id": "TLVeDpQU-uud"
      }
    },
    {
      "cell_type": "code",
      "source": [
        "tweet_words = []\n",
        "\n",
        "for word in tweet.split(' '):\n",
        "  if word.startswith('@') and len(word) > 1:\n",
        "    word = '@user'\n",
        "  elif word.startswith('http'):\n",
        "    word = 'http'\n",
        "  tweet_words.append(word)\n",
        "\n",
        "tweet_proc = \" \".join(tweet_words)\n"
      ],
      "metadata": {
        "id": "UymZlJYR-jWz"
      },
      "execution_count": null,
      "outputs": []
    },
    {
      "cell_type": "markdown",
      "source": [
        "## Loading Model"
      ],
      "metadata": {
        "id": "c5i3ed-8_txV"
      }
    },
    {
      "cell_type": "code",
      "source": [
        "roberta = \"cardiffnlp/twitter-roberta-base-sentiment\"\n",
        "\n",
        "model = AutoModelForSequenceClassification.from_pretrained(roberta)\n",
        "tokenizer = AutoTokenizer.from_pretrained(roberta)\n",
        "\n",
        "labels = ['Negative','Neutral','Positive']"
      ],
      "metadata": {
        "id": "COEDTlX2_YFe"
      },
      "execution_count": null,
      "outputs": []
    },
    {
      "cell_type": "markdown",
      "source": [
        "## Sentiment Analysis"
      ],
      "metadata": {
        "id": "Tf6RKwC1Aavm"
      }
    },
    {
      "cell_type": "code",
      "source": [
        "encoded_tweet = tokenizer(tweet_proc,return_tensors='pt')\n",
        "output = model(**encoded_tweet)\n"
      ],
      "metadata": {
        "id": "L8FPT0U8AZlB"
      },
      "execution_count": null,
      "outputs": []
    },
    {
      "cell_type": "code",
      "source": [
        "scores = output[0][0].detach().numpy()\n"
      ],
      "metadata": {
        "id": "gMP252g5BMG4"
      },
      "execution_count": null,
      "outputs": []
    },
    {
      "cell_type": "code",
      "source": [
        "scores = softmax(scores)"
      ],
      "metadata": {
        "id": "C_A_E268BUvh"
      },
      "execution_count": null,
      "outputs": []
    },
    {
      "cell_type": "code",
      "source": [
        "analysis = []\n",
        "\n",
        "for i in range(len(scores)):\n",
        "\n",
        "  l = labels[i]\n",
        "  s = scores[i]\n",
        "\n",
        "  analysis.append([l + \" \" + str(s)])\n",
        "\n",
        "print(analysis)\n",
        "\n"
      ],
      "metadata": {
        "colab": {
          "base_uri": "https://localhost:8080/"
        },
        "id": "YMB7ykcIBXbE",
        "outputId": "a5add88c-9473-46ee-ea2c-73a966614785"
      },
      "execution_count": null,
      "outputs": [
        {
          "output_type": "stream",
          "name": "stdout",
          "text": [
            "[['Negative 0.6376004'], ['Neutral 0.32812917'], ['Positive 0.03427041']]\n"
          ]
        }
      ]
    },
    {
      "cell_type": "code",
      "source": [],
      "metadata": {
        "id": "IevxrVdxBcVB"
      },
      "execution_count": null,
      "outputs": []
    }
  ]
}